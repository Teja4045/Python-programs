{
 "cells": [
  {
   "cell_type": "code",
   "execution_count": 2,
   "metadata": {},
   "outputs": [
    {
     "name": "stdout",
     "output_type": "stream",
     "text": [
      "Enter the first number:56\n",
      "Enter the second number:67\n",
      "Enter the third number:78\n",
      "The greatest number is 78\n"
     ]
    }
   ],
   "source": [
    "# Python program to find the greatest of three numbers using if-else statement\n",
    "num1 = int(input(\"Enter the first number:\"))\n",
    "num2 = int(input(\"Enter the second number:\"))\n",
    "num3 = int(input(\"Enter the third number:\"))\n",
    "if (num1 >= num2) and (num1 >= num3):\n",
    " largest = num1\n",
    "elif (num2 >= num1) and (num2 >= num3):\n",
    " greatest = num2\n",
    "else:\n",
    " greatest = num3\n",
    "print(\"The greatest number is\",greatest )"
   ]
  },
  {
   "cell_type": "code",
   "execution_count": null,
   "metadata": {},
   "outputs": [],
   "source": []
  }
 ],
 "metadata": {
  "kernelspec": {
   "display_name": "Python 3",
   "language": "python",
   "name": "python3"
  },
  "language_info": {
   "codemirror_mode": {
    "name": "ipython",
    "version": 3
   },
   "file_extension": ".py",
   "mimetype": "text/x-python",
   "name": "python",
   "nbconvert_exporter": "python",
   "pygments_lexer": "ipython3",
   "version": "3.8.3"
  }
 },
 "nbformat": 4,
 "nbformat_minor": 4
}
