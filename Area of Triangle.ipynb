{
 "cells": [
  {
   "cell_type": "code",
   "execution_count": 1,
   "metadata": {},
   "outputs": [
    {
     "name": "stdout",
     "output_type": "stream",
     "text": [
      "area of triangle\n",
      "enter base of the traingle==5\n",
      "enter height of the traingle==7\n",
      "area of the traingle== 17.5\n"
     ]
    }
   ],
   "source": [
    "print('area of triangle')\n",
    "b=float(input('enter base of the traingle=='))\n",
    "h=float(input('enter height of the traingle=='))\n",
    "area=0.5*b*h\n",
    "print('area of the traingle==',area)\n",
    "\n"
   ]
  },
  {
   "cell_type": "code",
   "execution_count": null,
   "metadata": {},
   "outputs": [],
   "source": []
  }
 ],
 "metadata": {
  "kernelspec": {
   "display_name": "Python 3",
   "language": "python",
   "name": "python3"
  },
  "language_info": {
   "codemirror_mode": {
    "name": "ipython",
    "version": 3
   },
   "file_extension": ".py",
   "mimetype": "text/x-python",
   "name": "python",
   "nbconvert_exporter": "python",
   "pygments_lexer": "ipython3",
   "version": "3.8.3"
  }
 },
 "nbformat": 4,
 "nbformat_minor": 4
}
