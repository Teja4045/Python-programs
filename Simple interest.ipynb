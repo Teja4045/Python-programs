{
 "cells": [
  {
   "cell_type": "code",
   "execution_count": 1,
   "metadata": {},
   "outputs": [
    {
     "name": "stdout",
     "output_type": "stream",
     "text": [
      "simple intrest\n",
      "enter principle amount==20000\n",
      "enter intrest rate==9\n",
      "enter time==5\n",
      "the simple intrest is == 920000.0\n"
     ]
    }
   ],
   "source": [
    "print('simple intrest')\n",
    "p=float(input('enter principle amount=='))\n",
    "r=float(input('enter intrest rate=='))\n",
    "t=float(input('enter time=='))\n",
    "si=p*(1+r*t)\n",
    "print('the simple intrest is ==',si)"
   ]
  },
  {
   "cell_type": "code",
   "execution_count": null,
   "metadata": {},
   "outputs": [],
   "source": []
  }
 ],
 "metadata": {
  "kernelspec": {
   "display_name": "Python 3",
   "language": "python",
   "name": "python3"
  },
  "language_info": {
   "codemirror_mode": {
    "name": "ipython",
    "version": 3
   },
   "file_extension": ".py",
   "mimetype": "text/x-python",
   "name": "python",
   "nbconvert_exporter": "python",
   "pygments_lexer": "ipython3",
   "version": "3.8.3"
  }
 },
 "nbformat": 4,
 "nbformat_minor": 4
}
