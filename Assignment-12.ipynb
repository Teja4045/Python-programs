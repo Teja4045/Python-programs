{
 "cells": [
  {
   "cell_type": "code",
   "execution_count": 1,
   "metadata": {},
   "outputs": [
    {
     "name": "stdout",
     "output_type": "stream",
     "text": [
      "{1: 56, 2: 55, 3: 46, 4: 45, 5: 50, 6: 60}\n"
     ]
    }
   ],
   "source": [
    "#Concate dictionary\n",
    "Dic1={1:56,2:55}\n",
    "Dic2={3:46,4:45}\n",
    "Dic3={5:50,6:60}\n",
    "Dic4=dict()\n",
    "for i in Dic1,Dic2,Dic3:\n",
    "    Dic4.update(i)\n",
    "print(Dic4)"
   ]
  },
  {
   "cell_type": "code",
   "execution_count": 2,
   "metadata": {},
   "outputs": [
    {
     "name": "stdout",
     "output_type": "stream",
     "text": [
      "(6, 7, 8, 9)\n"
     ]
    }
   ],
   "source": [
    "#Tuple\n",
    "Tuple=(6,7,8,9)\n",
    "print(Tuple)"
   ]
  },
  {
   "cell_type": "code",
   "execution_count": 3,
   "metadata": {},
   "outputs": [
    {
     "name": "stdout",
     "output_type": "stream",
     "text": [
      "(1, 22)\n"
     ]
    }
   ],
   "source": [
    "#Dict-Access-Index\n",
    "Dict1={1:22,2:78,3:89}\n",
    "List=[]\n",
    "List=list(Dict1.items())\n",
    "print(List[0])"
   ]
  },
  {
   "cell_type": "code",
   "execution_count": 5,
   "metadata": {},
   "outputs": [
    {
     "name": "stdout",
     "output_type": "stream",
     "text": [
      "1 JD\n",
      "2 Teja\n",
      "3 Sai\n"
     ]
    }
   ],
   "source": [
    "#Dictionary using loop\n",
    "Dict={1:\"JD\",2:\"Teja\",3:\"Sai\"}\n",
    "for i in Dict:\n",
    "    print(i,Dict[i])"
   ]
  },
  {
   "cell_type": "code",
   "execution_count": 6,
   "metadata": {},
   "outputs": [
    {
     "name": "stdout",
     "output_type": "stream",
     "text": [
      "[1, 2, {}]\n"
     ]
    }
   ],
   "source": [
    "#List empty loop\n",
    "List=[1,2,{}]\n",
    "print(List)"
   ]
  },
  {
   "cell_type": "code",
   "execution_count": 7,
   "metadata": {},
   "outputs": [
    {
     "name": "stdout",
     "output_type": "stream",
     "text": [
      "(1, 2, 3, 4, 5)\n"
     ]
    }
   ],
   "source": [
    "#List to loop\n",
    "List=[1,2,3,4,5]\n",
    "Tuple=tuple(List)\n",
    "print(Tuple)"
   ]
  },
  {
   "cell_type": "code",
   "execution_count": 8,
   "metadata": {},
   "outputs": [
    {
     "name": "stdout",
     "output_type": "stream",
     "text": [
      "{1: 'Teja', 2: 'Sai', 3: 'JD'}\n",
      "(1, 2, 3, 4, 5)\n"
     ]
    }
   ],
   "source": [
    "#List of tuples and dictionary\n",
    "Tuple=([1,\"Teja\"],[2,\"Sai\"],[3,\"JD\"])\n",
    "Dict=dict(Tuple)\n",
    "print(Dict)\n",
    "List=[1,2,3,4,5]\n",
    "Tuple=tuple(List)\n",
    "print(Tuple)"
   ]
  },
  {
   "cell_type": "code",
   "execution_count": 9,
   "metadata": {},
   "outputs": [
    {
     "name": "stdout",
     "output_type": "stream",
     "text": [
      "(5, 6, 7, 8)\n",
      "(1, 2, 3, 4)\n",
      "(3, 4, 5, 6, 7)\n"
     ]
    }
   ],
   "source": [
    "#Slice tuple\n",
    "Tuple=(1,2,3,4,5,6,7,8)\n",
    "print(Tuple[4:])\n",
    "print(Tuple[0:4])\n",
    "print(Tuple[-6:-1])"
   ]
  },
  {
   "cell_type": "code",
   "execution_count": 10,
   "metadata": {},
   "outputs": [
    {
     "name": "stdout",
     "output_type": "stream",
     "text": [
      "148\n"
     ]
    }
   ],
   "source": [
    "#Sum Dictionary\n",
    "Dict={1:22,2:67,3:59}\n",
    "print(sum(Dict.values()))"
   ]
  },
  {
   "cell_type": "code",
   "execution_count": 11,
   "metadata": {},
   "outputs": [
    {
     "name": "stdout",
     "output_type": "stream",
     "text": [
      "15\n"
     ]
    }
   ],
   "source": [
    "#Sum items list\n",
    "List=[1,2,3,4,5]\n",
    "a=sum(List)\n",
    "print(a)"
   ]
  },
  {
   "cell_type": "code",
   "execution_count": 13,
   "metadata": {},
   "outputs": [
    {
     "name": "stdout",
     "output_type": "stream",
     "text": [
      "(1, 'Teja', 2.89)\n"
     ]
    }
   ],
   "source": [
    "#Tuple different data type\n",
    "Tuple=(1,\"Teja\",2.89)\n",
    "print(Tuple)"
   ]
  },
  {
   "cell_type": "code",
   "execution_count": 14,
   "metadata": {},
   "outputs": [
    {
     "name": "stdout",
     "output_type": "stream",
     "text": [
      "6\n"
     ]
    }
   ],
   "source": [
    "#Tuple length\n",
    "Tuple=(1,2,3,4,5,6)\n",
    "print(len(Tuple))"
   ]
  },
  {
   "cell_type": "code",
   "execution_count": 15,
   "metadata": {},
   "outputs": [
    {
     "name": "stdout",
     "output_type": "stream",
     "text": [
      "(6, 5, 4, 3, 2, 1)\n"
     ]
    }
   ],
   "source": [
    "#Tuple reverse\n",
    "Tuple=(1,2,3,4,5,6)\n",
    "Tuple1=tuple(reversed(Tuple))\n",
    "print(Tuple1)"
   ]
  },
  {
   "cell_type": "code",
   "execution_count": 16,
   "metadata": {},
   "outputs": [
    {
     "name": "stdout",
     "output_type": "stream",
     "text": [
      "TejaKumar\n",
      "<class 'str'>\n"
     ]
    }
   ],
   "source": [
    "#Tuple string\n",
    "Tuple=(\"Teja\",\"Sai\")\n",
    "Name=''.join(Tuple)\n",
    "print(Name)\n",
    "print(type(Name))"
   ]
  },
  {
   "cell_type": "code",
   "execution_count": 17,
   "metadata": {},
   "outputs": [
    {
     "name": "stdout",
     "output_type": "stream",
     "text": [
      "{1: 'Teja', 2: 'Kumar'}\n"
     ]
    }
   ],
   "source": [
    "#Tuple to dictionary\n",
    "Tuple=((1,\"Teja\"),(2,\"Sai\"))\n",
    "Dict=dict(Tuple)\n",
    "print(Dict)"
   ]
  },
  {
   "cell_type": "code",
   "execution_count": null,
   "metadata": {},
   "outputs": [],
   "source": []
  }
 ],
 "metadata": {
  "kernelspec": {
   "display_name": "Python 3",
   "language": "python",
   "name": "python3"
  },
  "language_info": {
   "codemirror_mode": {
    "name": "ipython",
    "version": 3
   },
   "file_extension": ".py",
   "mimetype": "text/x-python",
   "name": "python",
   "nbconvert_exporter": "python",
   "pygments_lexer": "ipython3",
   "version": "3.8.3"
  }
 },
 "nbformat": 4,
 "nbformat_minor": 4
}
