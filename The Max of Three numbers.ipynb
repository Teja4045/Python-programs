{
 "cells": [
  {
   "cell_type": "code",
   "execution_count": 3,
   "metadata": {},
   "outputs": [
    {
     "ename": "IndentationError",
     "evalue": "unexpected indent (<ipython-input-3-ae205cd800b8>, line 6)",
     "output_type": "error",
     "traceback": [
      "\u001b[0;36m  File \u001b[0;32m\"<ipython-input-3-ae205cd800b8>\"\u001b[0;36m, line \u001b[0;32m6\u001b[0m\n\u001b[0;31m    if(num1>=num2) and (num1>=num3):\u001b[0m\n\u001b[0m    ^\u001b[0m\n\u001b[0;31mIndentationError\u001b[0m\u001b[0;31m:\u001b[0m unexpected indent\n"
     ]
    }
   ],
   "source": [
    "#Python function to find the max of three numbers\n",
    "num1=int(input(\"Enter the first number: \"));\n",
    "num2=int(input(\"Enter the second number: \"));\n",
    "num3=int(input(\"Enter the Third number: \"));\n",
    "\n",
    "     if(num1>=num2) and (num1>=num3):\n",
    "         largest=num1\n",
    "     elif(num2>=num1) and (num2>=num3):\n",
    "         largest=num2\n",
    "     else:\n",
    "         largest=num3\n",
    "\n",
    "     print(\"Largest number is\",largest)."
   ]
  },
  {
   "cell_type": "code",
   "execution_count": null,
   "metadata": {},
   "outputs": [],
   "source": []
  }
 ],
 "metadata": {
  "kernelspec": {
   "display_name": "Python 3",
   "language": "python",
   "name": "python3"
  },
  "language_info": {
   "codemirror_mode": {
    "name": "ipython",
    "version": 3
   },
   "file_extension": ".py",
   "mimetype": "text/x-python",
   "name": "python",
   "nbconvert_exporter": "python",
   "pygments_lexer": "ipython3",
   "version": "3.8.3"
  }
 },
 "nbformat": 4,
 "nbformat_minor": 4
}
