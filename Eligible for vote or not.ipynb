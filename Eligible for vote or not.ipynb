{
 "cells": [
  {
   "cell_type": "code",
   "execution_count": 1,
   "metadata": {},
   "outputs": [
    {
     "name": "stdout",
     "output_type": "stream",
     "text": [
      "enter the name:Teja\n",
      "enter the age:18\n",
      "yes Teja is eligible to vote since his age is 18\n"
     ]
    }
   ],
   "source": [
    "#Program to check whether a person is eligible for voting or not.\n",
    "n=str(input(\"enter the name:\"))\n",
    "a=int(input(\"enter the age:\"))\n",
    "if(a>=18):\n",
    "    print(\"yes\",n,\"is eligible to vote since his age is\",a)\n",
    "else:\n",
    "    print(\"no\",n,\"is not inelegible to vote because his age is\",a)"
   ]
  },
  {
   "cell_type": "code",
   "execution_count": null,
   "metadata": {},
   "outputs": [],
   "source": []
  }
 ],
 "metadata": {
  "kernelspec": {
   "display_name": "Python 3",
   "language": "python",
   "name": "python3"
  },
  "language_info": {
   "codemirror_mode": {
    "name": "ipython",
    "version": 3
   },
   "file_extension": ".py",
   "mimetype": "text/x-python",
   "name": "python",
   "nbconvert_exporter": "python",
   "pygments_lexer": "ipython3",
   "version": "3.8.3"
  }
 },
 "nbformat": 4,
 "nbformat_minor": 4
}
