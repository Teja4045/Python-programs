{
 "cells": [
  {
   "cell_type": "code",
   "execution_count": 1,
   "metadata": {},
   "outputs": [
    {
     "name": "stdout",
     "output_type": "stream",
     "text": [
      "Enter the String : Teja sai\n",
      "The Original String =  Teja sai\n",
      "The Reversed String =  ias ajeT\n"
     ]
    }
   ],
   "source": [
    "# Python Program to Reverse String\n",
    "string = input(\"Enter the String : \")\n",
    "\n",
    "string2 = ''\n",
    "i = len(string) - 1\n",
    "\n",
    "while(i >= 0):\n",
    "    string2 = string2 + string[i]\n",
    "    i = i - 1\n",
    "    \n",
    "print(\"The Original String = \", string)\n",
    "print(\"The Reversed String = \", string2)"
   ]
  },
  {
   "cell_type": "code",
   "execution_count": null,
   "metadata": {},
   "outputs": [],
   "source": []
  }
 ],
 "metadata": {
  "kernelspec": {
   "display_name": "Python 3",
   "language": "python",
   "name": "python3"
  },
  "language_info": {
   "codemirror_mode": {
    "name": "ipython",
    "version": 3
   },
   "file_extension": ".py",
   "mimetype": "text/x-python",
   "name": "python",
   "nbconvert_exporter": "python",
   "pygments_lexer": "ipython3",
   "version": "3.8.3"
  }
 },
 "nbformat": 4,
 "nbformat_minor": 4
}
