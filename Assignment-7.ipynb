{
 "cells": [
  {
   "cell_type": "code",
   "execution_count": 1,
   "metadata": {},
   "outputs": [
    {
     "name": "stdout",
     "output_type": "stream",
     "text": [
      "Count Of String Is 5\n"
     ]
    }
   ],
   "source": [
    "#Count of a string.\n",
    "Str=\"Teja sai\"\n",
    "count=0\n",
    "for i in Str:\n",
    "    count=count+1\n",
    "print(\"Count Of String Is\",count)"
   ]
  },
  {
   "cell_type": "code",
   "execution_count": 5,
   "metadata": {},
   "outputs": [
    {
     "name": "stdout",
     "output_type": "stream",
     "text": [
      "39\n"
     ]
    },
    {
     "data": {
      "text/plain": [
       "4"
      ]
     },
     "execution_count": 5,
     "metadata": {},
     "output_type": "execute_result"
    }
   ],
   "source": [
    "#Count of a word.\n",
    "String=\"Failure is a stepping stone to success\"\n",
    "print(String.count(\"s\"))\n",
    "4"
   ]
  },
  {
   "cell_type": "code",
   "execution_count": 6,
   "metadata": {},
   "outputs": [
    {
     "name": "stdout",
     "output_type": "stream",
     "text": [
      "Lion is te king of te forest\n"
     ]
    }
   ],
   "source": [
    "#Remove a word.\n",
    "String=\"Lion is the king of the forest\"\n",
    "print(String.replace(\"t\",\"\"))"
   ]
  },
  {
   "cell_type": "code",
   "execution_count": 7,
   "metadata": {},
   "outputs": [
    {
     "name": "stdout",
     "output_type": "stream",
     "text": [
      "abc\n",
      "\n",
      "abc\n"
     ]
    }
   ],
   "source": [
    "#New line character.\n",
    "String=\"abc\\n\"\n",
    "print(String)\n",
    "String_New=String.rstrip(\"\\n\")\n",
    "print(String_New)"
   ]
  },
  {
   "cell_type": "code",
   "execution_count": 8,
   "metadata": {},
   "outputs": [
    {
     "name": "stdout",
     "output_type": "stream",
     "text": [
      "The String Length= 7\n"
     ]
    }
   ],
   "source": [
    "#String length.\n",
    "String=\"Sun is bright\"\n",
    "print(\"The String Length=\",len(String))"
   ]
  },
  {
   "cell_type": "code",
   "execution_count": 9,
   "metadata": {},
   "outputs": [
    {
     "name": "stdout",
     "output_type": "stream",
     "text": [
      "['I', 'Am', 'Teja', '']\n"
     ]
    }
   ],
   "source": [
    "#List of a string removing a character.\n",
    "String=\"I Am Teja sai\"\n",
    "List=list(String.split(\" \"))\n",
    "print(List)"
   ]
  },
  {
   "cell_type": "code",
   "execution_count": 10,
   "metadata": {},
   "outputs": [
    {
     "name": "stdout",
     "output_type": "stream",
     "text": [
      "Enter THe String=Passionate\n",
      "P\n",
      "a\n",
      "s\n",
      "s\n",
      "i\n",
      "o\n",
      "n\n",
      "a\n",
      "t\n",
      "e\n"
     ]
    }
   ],
   "source": [
    "#Characters in line.\n",
    "String=input(\"Enter THe String=\")\n",
    "for i in String:\n",
    "    print(i)"
   ]
  },
  {
   "cell_type": "code",
   "execution_count": 11,
   "metadata": {},
   "outputs": [
    {
     "name": "stdout",
     "output_type": "stream",
     "text": [
      "Enter The String=Passionate\n",
      "PASSIONATE\n",
      "passionate\n"
     ]
    }
   ],
   "source": [
    "#Upper case-lower case.\n",
    "String=input(\"Enter The String=\")\n",
    "print(String.upper())\n",
    "print(String.lower())"
   ]
  },
  {
   "cell_type": "code",
   "execution_count": 13,
   "metadata": {},
   "outputs": [
    {
     "name": "stdout",
     "output_type": "stream",
     "text": [
      "Bippy Harthday\n"
     ]
    }
   ],
   "source": [
    "#swap first two chatacters.\n",
    "String1=\"Happy\"\n",
    "String2=\"Birthday\"\n",
    "New_1=String2[:2]+String1[2:]\n",
    "New_2=String1[:2]+String2[2:]\n",
    "print(New_1,New_2)"
   ]
  },
  {
   "cell_type": "code",
   "execution_count": 14,
   "metadata": {},
   "outputs": [
    {
     "name": "stdout",
     "output_type": "stream",
     "text": [
      "Length Of String refrigerator= 12\n"
     ]
    }
   ],
   "source": [
    "#Length of refrigirator.\n",
    "String=\"refrigerator\"\n",
    "count=0\n",
    "for i in String:\n",
    "    count=count+1\n",
    "print(\"Length Of String refrigerator=\",count)"
   ]
  },
  {
   "cell_type": "code",
   "execution_count": null,
   "metadata": {},
   "outputs": [],
   "source": []
  }
 ],
 "metadata": {
  "kernelspec": {
   "display_name": "Python 3",
   "language": "python",
   "name": "python3"
  },
  "language_info": {
   "codemirror_mode": {
    "name": "ipython",
    "version": 3
   },
   "file_extension": ".py",
   "mimetype": "text/x-python",
   "name": "python",
   "nbconvert_exporter": "python",
   "pygments_lexer": "ipython3",
   "version": "3.8.3"
  }
 },
 "nbformat": 4,
 "nbformat_minor": 4
}
