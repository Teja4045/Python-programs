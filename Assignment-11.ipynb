{
 "cells": [
  {
   "cell_type": "code",
   "execution_count": 1,
   "metadata": {},
   "outputs": [
    {
     "name": "stdout",
     "output_type": "stream",
     "text": [
      "Name Teja sai\n",
      "College Gitam University\n",
      "Place Bengaluru\n"
     ]
    }
   ],
   "source": [
    "#Access dictionary element\n",
    "dict1={\"Name\":\"Teja sai\",\"College\":\"Gitam University\",\"Place\":\"Bengaluru\"}\n",
    "for i in dict1:\n",
    "    print(i,dict1[i])"
   ]
  },
  {
   "cell_type": "code",
   "execution_count": 2,
   "metadata": {},
   "outputs": [
    {
     "name": "stdout",
     "output_type": "stream",
     "text": [
      "{1: 'Happy', 2: 'Birthday', 3: 'To', 4: 'You', 5: 'May', 6: 'God', 7: 'Bless', 8: 'You'}\n"
     ]
    }
   ],
   "source": [
    "#Concate dictionary\n",
    "dict1={1:\"Happy\",2:\"Birthday\",3:\"To\",4:\"You\"}\n",
    "dict2={5:\"May\",6:\"God\",7:\"Bless\",8:\"You\"}\n",
    "dict3=dict()\n",
    "for i in dict1,dict2:\n",
    "    dict3.update(i)\n",
    "print(dict3)"
   ]
  },
  {
   "cell_type": "code",
   "execution_count": 3,
   "metadata": {},
   "outputs": [
    {
     "name": "stdout",
     "output_type": "stream",
     "text": [
      "23\n"
     ]
    }
   ],
   "source": [
    "#Sum dictionary\n",
    "dict1={1:6,2:8,3:9}\n",
    "sum=0\n",
    "for i in dict1:\n",
    "    sum=sum+dict1[i]\n",
    "print(sum)"
   ]
  },
  {
   "cell_type": "code",
   "execution_count": 4,
   "metadata": {},
   "outputs": [
    {
     "name": "stdout",
     "output_type": "stream",
     "text": [
      "{1: 'I', 2: 'Miss'}\n"
     ]
    }
   ],
   "source": [
    "#Remove item dictionary\n",
    "dict1={1: 'I', 2: 'Miss', 3: 'You'}\n",
    "del dict1[3]\n",
    "print(dict1)"
   ]
  },
  {
   "cell_type": "code",
   "execution_count": 6,
   "metadata": {},
   "outputs": [
    {
     "name": "stdout",
     "output_type": "stream",
     "text": [
      "{1: 'I', 2: 'hate'}\n",
      "{1: 'I', 2: 'hate', 3: 'You'}\n"
     ]
    }
   ],
   "source": [
    "#Update key value dictionary\n",
    "dict1={1:\"I\",2:\"hate\"}\n",
    "print(dict1)\n",
    "dict1.update({3:\"You\"})\n",
    "print(dict1)"
   ]
  },
  {
   "cell_type": "code",
   "execution_count": 7,
   "metadata": {},
   "outputs": [
    {
     "name": "stdout",
     "output_type": "stream",
     "text": [
      "3\n"
     ]
    }
   ],
   "source": [
    "#Length dictionary\n",
    "dict1={1: 'I', 2: 'Hate', 3: 'You'}\n",
    "print(len(dict1))"
   ]
  },
  {
   "cell_type": "code",
   "execution_count": null,
   "metadata": {},
   "outputs": [],
   "source": []
  }
 ],
 "metadata": {
  "kernelspec": {
   "display_name": "Python 3",
   "language": "python",
   "name": "python3"
  },
  "language_info": {
   "codemirror_mode": {
    "name": "ipython",
    "version": 3
   },
   "file_extension": ".py",
   "mimetype": "text/x-python",
   "name": "python",
   "nbconvert_exporter": "python",
   "pygments_lexer": "ipython3",
   "version": "3.8.3"
  }
 },
 "nbformat": 4,
 "nbformat_minor": 4
}
