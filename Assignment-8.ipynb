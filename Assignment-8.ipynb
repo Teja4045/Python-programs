{
 "cells": [
  {
   "cell_type": "code",
   "execution_count": 1,
   "metadata": {},
   "outputs": [
    {
     "name": "stdout",
     "output_type": "stream",
     "text": [
      "[2, 3, 4, 5, 6, 7]\n"
     ]
    }
   ],
   "source": [
    "#Duplicate list item.\n",
    "List1=[2,3,4,5,6,7,4,5]\n",
    "List2=[]\n",
    "for i in List1:\n",
    "    if i not in List2:\n",
    "        List2.append(i)\n",
    "print(List2)"
   ]
  },
  {
   "cell_type": "code",
   "execution_count": 2,
   "metadata": {},
   "outputs": [
    {
     "name": "stdout",
     "output_type": "stream",
     "text": [
      "Largest= 9\n",
      "Smallest= 3\n"
     ]
    }
   ],
   "source": [
    "#Largest smallest lists.\n",
    "List=[6,9,9,7,5,3,4,6,9]\n",
    "print(\"Largest=\",max(List))\n",
    "print(\"Smallest=\",min(List))"
   ]
  },
  {
   "cell_type": "code",
   "execution_count": 3,
   "metadata": {},
   "outputs": [
    {
     "name": "stdout",
     "output_type": "stream",
     "text": [
      "The List Is Not Empty\n"
     ]
    }
   ],
   "source": [
    "#Check whether the list is empty or not.\n",
    "List=[6,7]\n",
    "if len(List)==0:\n",
    "    print(\"The List Is Empty\")\n",
    "else:\n",
    "    print(\"The List Is Not Empty\")"
   ]
  },
  {
   "cell_type": "code",
   "execution_count": 4,
   "metadata": {},
   "outputs": [
    {
     "name": "stdout",
     "output_type": "stream",
     "text": [
      "8640\n"
     ]
    }
   ],
   "source": [
    "#Multiply the give list.\n",
    "List=[4,8,9,6,5]\n",
    "Result=1\n",
    "for i in List:\n",
    "    Result=Result*i\n",
    "print(Result)"
   ]
  },
  {
   "cell_type": "code",
   "execution_count": 5,
   "metadata": {},
   "outputs": [
    {
     "name": "stdout",
     "output_type": "stream",
     "text": [
      "36\n"
     ]
    }
   ],
   "source": [
    "#Sum the given list.\n",
    "List=[3,9,4,7,8,5]\n",
    "print(sum(List))"
   ]
  },
  {
   "cell_type": "code",
   "execution_count": null,
   "metadata": {},
   "outputs": [],
   "source": []
  }
 ],
 "metadata": {
  "kernelspec": {
   "display_name": "Python 3",
   "language": "python",
   "name": "python3"
  },
  "language_info": {
   "codemirror_mode": {
    "name": "ipython",
    "version": 3
   },
   "file_extension": ".py",
   "mimetype": "text/x-python",
   "name": "python",
   "nbconvert_exporter": "python",
   "pygments_lexer": "ipython3",
   "version": "3.8.3"
  }
 },
 "nbformat": 4,
 "nbformat_minor": 4
}
