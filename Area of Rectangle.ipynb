{
 "cells": [
  {
   "cell_type": "code",
   "execution_count": 1,
   "metadata": {},
   "outputs": [
    {
     "name": "stdout",
     "output_type": "stream",
     "text": [
      "area of a retangle\n",
      "enter lengh of rectangle12\n",
      "enter breath of rectangle14\n",
      "Area of Rectangle= 168.0\n"
     ]
    }
   ],
   "source": [
    "print('area of a retangle')\n",
    "l=float(input('enter lengh of rectangle'))\n",
    "b=float(input('enter breath of rectangle'))\n",
    "area=l*b\n",
    "print('Area of Rectangle=',area)"
   ]
  },
  {
   "cell_type": "code",
   "execution_count": null,
   "metadata": {},
   "outputs": [],
   "source": []
  }
 ],
 "metadata": {
  "kernelspec": {
   "display_name": "Python 3",
   "language": "python",
   "name": "python3"
  },
  "language_info": {
   "codemirror_mode": {
    "name": "ipython",
    "version": 3
   },
   "file_extension": ".py",
   "mimetype": "text/x-python",
   "name": "python",
   "nbconvert_exporter": "python",
   "pygments_lexer": "ipython3",
   "version": "3.8.3"
  }
 },
 "nbformat": 4,
 "nbformat_minor": 4
}
