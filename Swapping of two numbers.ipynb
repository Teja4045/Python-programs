{
 "cells": [
  {
   "cell_type": "code",
   "execution_count": 2,
   "metadata": {},
   "outputs": [
    {
     "name": "stdout",
     "output_type": "stream",
     "text": [
      "Enter The Value For A=28\n",
      "Enter The Value For B=108\n",
      "After Swapping\n",
      " A= 108 \n",
      " B= 28\n"
     ]
    }
   ],
   "source": [
    "A=int(input(\"Enter The Value For A=\"))\n",
    "B=int(input(\"Enter The Value For B=\"))\n",
    "A=A+B\n",
    "B=A-B\n",
    "A=A-B\n",
    "print(\"After Swapping\\n A=\",A,\"\\n B=\",B)"
   ]
  },
  {
   "cell_type": "code",
   "execution_count": null,
   "metadata": {},
   "outputs": [],
   "source": []
  }
 ],
 "metadata": {
  "kernelspec": {
   "display_name": "Python 3",
   "language": "python",
   "name": "python3"
  },
  "language_info": {
   "codemirror_mode": {
    "name": "ipython",
    "version": 3
   },
   "file_extension": ".py",
   "mimetype": "text/x-python",
   "name": "python",
   "nbconvert_exporter": "python",
   "pygments_lexer": "ipython3",
   "version": "3.8.3"
  }
 },
 "nbformat": 4,
 "nbformat_minor": 4
}
